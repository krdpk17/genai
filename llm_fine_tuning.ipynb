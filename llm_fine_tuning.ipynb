{
 "cells": [
  {
   "cell_type": "code",
   "execution_count": 15,
   "id": "d2318d86",
   "metadata": {},
   "outputs": [],
   "source": [
    "#This example tells how to fine tune a model\n",
    "#Courtesy: https://youtu.be/_78rA4uV4jA"
   ]
  },
  {
   "cell_type": "code",
   "execution_count": 1,
   "id": "93c8b5ee",
   "metadata": {},
   "outputs": [
    {
     "name": "stdout",
     "output_type": "stream",
     "text": [
      "Collecting gradientai\n",
      "  Obtaining dependency information for gradientai from https://files.pythonhosted.org/packages/04/d6/9e209bebff2cca7463437c0eb5ed008ac26a08516d2da2959e773d1eb415/gradientai-1.7.0-py3-none-any.whl.metadata\n",
      "  Downloading gradientai-1.7.0-py3-none-any.whl.metadata (1.3 kB)\n",
      "Collecting aenum>=3.1.11 (from gradientai)\n",
      "  Obtaining dependency information for aenum>=3.1.11 from https://files.pythonhosted.org/packages/d0/fa/ca0c66b388624ba9dbbf35aab3a9f326bfdf5e56a7237fe8f1b600da6864/aenum-3.1.15-py3-none-any.whl.metadata\n",
      "  Downloading aenum-3.1.15-py3-none-any.whl.metadata (3.7 kB)\n",
      "Requirement already satisfied: pydantic<2.0.0,>=1.10.5 in /Users/deepak/anaconda3/lib/python3.11/site-packages (from gradientai) (1.10.8)\n",
      "Requirement already satisfied: python-dateutil>=2.8.2 in /Users/deepak/anaconda3/lib/python3.11/site-packages (from gradientai) (2.8.2)\n",
      "Requirement already satisfied: urllib3>=1.25.3 in /Users/deepak/anaconda3/lib/python3.11/site-packages (from gradientai) (1.26.16)\n",
      "Requirement already satisfied: typing-extensions>=4.2.0 in /Users/deepak/anaconda3/lib/python3.11/site-packages (from pydantic<2.0.0,>=1.10.5->gradientai) (4.7.1)\n",
      "Requirement already satisfied: six>=1.5 in /Users/deepak/anaconda3/lib/python3.11/site-packages (from python-dateutil>=2.8.2->gradientai) (1.16.0)\n",
      "Downloading gradientai-1.7.0-py3-none-any.whl (270 kB)\n",
      "\u001b[2K   \u001b[90m━━━━━━━━━━━━━━━━━━━━━━━━━━━━━━━━━━━━━━━━\u001b[0m \u001b[32m270.4/270.4 kB\u001b[0m \u001b[31m2.0 MB/s\u001b[0m eta \u001b[36m0:00:00\u001b[0m00:01\u001b[0m00:01\u001b[0m\n",
      "\u001b[?25hDownloading aenum-3.1.15-py3-none-any.whl (137 kB)\n",
      "\u001b[2K   \u001b[90m━━━━━━━━━━━━━━━━━━━━━━━━━━━━━━━━━━━━━━━━\u001b[0m \u001b[32m137.6/137.6 kB\u001b[0m \u001b[31m3.2 MB/s\u001b[0m eta \u001b[36m0:00:00\u001b[0mta \u001b[36m0:00:01\u001b[0m\n",
      "\u001b[?25hInstalling collected packages: aenum, gradientai\n",
      "Successfully installed aenum-3.1.15 gradientai-1.7.0\n"
     ]
    }
   ],
   "source": [
    "!pip install gradientai --upgrade"
   ]
  },
  {
   "cell_type": "code",
   "execution_count": 7,
   "id": "2558198e",
   "metadata": {},
   "outputs": [],
   "source": [
    "import os\n",
    "os.environ['GRADIENT_WORKSPACE_ID']='3d76b8ad-aba5-47f7-befa-0940e1a77237_workspace'\n",
    "os.environ['GRADIENT_ACCESS_TOKEN']='LxOBnXiZm9VJ8aP0h6aL0egApyIzRqGZ'"
   ]
  },
  {
   "cell_type": "code",
   "execution_count": 8,
   "id": "07064fce",
   "metadata": {},
   "outputs": [],
   "source": [
    "from gradientai import Gradient"
   ]
  },
  {
   "cell_type": "code",
   "execution_count": 14,
   "id": "35e2b34d",
   "metadata": {},
   "outputs": [
    {
     "name": "stdout",
     "output_type": "stream",
     "text": [
      "Created model adapter with id 03f91abc-42d4-4778-807f-67697294932b_model_adapter\n",
      "Asking: ### Instruction:Who is Deepak Kumar? \n",
      "\n",
      " ### Response:\n",
      "Generated(before fine tuning): Deepak Kumar is an Indian politician and a member of the Indian National Congress party. He is a member of the Rajya Sabha, the upper house of the Indian Parliament, representing the state of Bihar. He has also served as the Minister of State for Railways in the Government of India.\n",
      "Fine Tuning model with iteration 1\n",
      "Fine Tuning model with iteration 2\n",
      "Fine Tuning model with iteration 3\n",
      "Generated(After fine tuning):  Deepak is IT professional with 18+years experience. He is mentor as well as technical lead. He is passionate about technology and mentoring.\n"
     ]
    }
   ],
   "source": [
    "def main():\n",
    "    gradient = Gradient()\n",
    "    \n",
    "    base_model = gradient.get_base_model(base_model_slug=\"nous-hermes2\")\n",
    "    new_model_adapter = base_model.create_model_adapter(\n",
    "        name = 'My test model adapter'\n",
    "    )\n",
    "    print(f'Created model adapter with id {new_model_adapter.id}')\n",
    "    sample_query = \"### Instruction:Who is Deepak Kumar? \\n\\n ### Response:\"\n",
    "    print(f\"Asking: {sample_query}\")\n",
    "    \n",
    "    ## Before fine tuning\n",
    "    completion = new_model_adapter.complete(query=sample_query, max_generated_token_count=100).generated_output\n",
    "    print(f\"Generated(before fine tuning): {completion}\")\n",
    "    \n",
    "    samples = [\n",
    "        {\"inputs\":\"###Instruction: Who is Deepak Kumar? \\n\\n ###Response: Deepak is IT professional with 18+years experience\"},\n",
    "        {\"inputs\":\"###Instruction: Who is this person named Deepak Kumar? \\n\\n ###Response: Deepak is having 18+years experience & he is IT professional\"},\n",
    "        {\"inputs\":\"###Instruction: What do you know about Deepak Kumar? \\n\\n ###Response: Deepak is having 18+years experience & he is IT professional. He is mentor as well\"},\n",
    "        {\"inputs\":\"###Instruction: Can you tell me about Deepak Kumar? \\n\\n ###Response: Deepak  is IT professional. He is mentor as well\"}\n",
    "    ]\n",
    "    \n",
    "    #Lets define parameters for fine-tuning\n",
    "    num_epochs = 3\n",
    "    count = 0\n",
    "    while count < num_epochs:\n",
    "        print(f\"Fine Tuning model with iteration {count + 1}\")\n",
    "        new_model_adapter.fine_tune(samples=samples)\n",
    "        count = count + 1\n",
    "    \n",
    "    #After fine tuning\n",
    "    completion = new_model_adapter.complete(query=sample_query, max_generated_token_count=100).generated_output\n",
    "    print(f\"Generated(After fine tuning): {completion}\")\n",
    "    \n",
    "    new_model_adapter.delete()\n",
    "    gradient.close()\n",
    "\n",
    "if __name__ == '__main__':\n",
    "    main()\n"
   ]
  },
  {
   "cell_type": "code",
   "execution_count": null,
   "id": "6f8182c8",
   "metadata": {},
   "outputs": [],
   "source": []
  }
 ],
 "metadata": {
  "kernelspec": {
   "display_name": "Python 3 (ipykernel)",
   "language": "python",
   "name": "python3"
  },
  "language_info": {
   "codemirror_mode": {
    "name": "ipython",
    "version": 3
   },
   "file_extension": ".py",
   "mimetype": "text/x-python",
   "name": "python",
   "nbconvert_exporter": "python",
   "pygments_lexer": "ipython3",
   "version": "3.11.5"
  }
 },
 "nbformat": 4,
 "nbformat_minor": 5
}
